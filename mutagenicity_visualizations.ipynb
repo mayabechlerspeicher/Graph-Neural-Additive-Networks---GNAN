{
 "cells": [
  {
   "cell_type": "code",
   "execution_count": null,
   "id": "18bb6840dd32e956",
   "metadata": {
    "ExecuteTime": {
     "end_time": "2024-10-28T13:32:00.703670Z",
     "start_time": "2024-10-28T13:32:00.674071Z"
    },
    "collapsed": true
   },
   "outputs": [],
   "source": [
    "import matplotlib.pyplot as plt\n",
    "import numpy as np\n",
    "import torch\n",
    "import torch.nn as nn\n",
    "from torch_geometric.utils import to_scipy_sparse_matrix\n",
    "import scipy\n",
    "from torch_geometric.datasets import Planetoid, TUDataset, QM9\n",
    "from scipy.sparse.csgraph import floyd_warshall, dijkstra\n",
    "import seaborn as sns\n",
    "import igraph"
   ]
  },
  {
   "cell_type": "code",
   "execution_count": null,
   "id": "4b024b98d9ba65a6",
   "metadata": {
    "ExecuteTime": {
     "end_time": "2024-10-28T13:32:01.068182Z",
     "start_time": "2024-10-28T13:32:01.057739Z"
    },
    "collapsed": false
   },
   "outputs": [],
   "source": [
    "mutagenity_feature_names = {\n",
    "    0: 'C',\n",
    "    1: 'O',\n",
    "    2: 'Cl',\n",
    "    3: 'H',\n",
    "    4: 'N',\n",
    "    5: 'F',\n",
    "    6: 'Br',\n",
    "    7: 'S',\n",
    "    8: 'P',\n",
    "    9: 'I',\n",
    "    10: 'Na',\n",
    "    11: 'K',\n",
    "    12: 'Li',\n",
    "    13: 'Ca'\n",
    "}.values()"
   ]
  },
  {
   "cell_type": "code",
   "execution_count": 343,
   "id": "59c9aedb1f1ac7a2",
   "metadata": {
    "ExecuteTime": {
     "end_time": "2024-10-28T13:32:06.098348Z",
     "start_time": "2024-10-28T13:32:03.031064Z"
    }
   },
   "outputs": [],
   "source": [
    "class GNAN(nn.Module):\n",
    "    def __init__(self, in_channels, out_channels, num_layers, hidden_channels=None, bias=True, dropout=0.0,\n",
    "                 device='cpu', limited_m=False, normalize_m=True):\n",
    "        super().__init__()\n",
    "\n",
    "        self.device = device\n",
    "        self.out_channels = out_channels\n",
    "        self.hidden_channels = hidden_channels\n",
    "        self.num_layers = num_layers\n",
    "        self.bias = bias\n",
    "        self.dropout = dropout\n",
    "        self.limited_m = limited_m\n",
    "        self.normalize_m = normalize_m\n",
    "        self.fs = nn.ModuleList()\n",
    "\n",
    "        for _ in range(in_channels):\n",
    "            if num_layers == 1:\n",
    "                curr_f = [nn.Linear(1, out_channels, bias=bias)]\n",
    "            else:\n",
    "                curr_f = [nn.Linear(1, hidden_channels, bias=bias), nn.ReLU(), nn.Dropout(p=dropout)]\n",
    "                for _ in range(1, num_layers - 1):\n",
    "                    curr_f.append(nn.Linear(hidden_channels, hidden_channels, bias=bias))\n",
    "                    curr_f.append(nn.ReLU())\n",
    "                    curr_f.append(nn.Dropout(p=dropout))\n",
    "                curr_f.append(nn.Linear(hidden_channels, out_channels, bias=bias))\n",
    "            self.fs.append(nn.Sequential(*curr_f))\n",
    "\n",
    "        if num_layers == 1:\n",
    "            self.m = [nn.Linear(1, out_channels, bias=bias)]\n",
    "        else:\n",
    "            self.m = [nn.Linear(1, hidden_channels, bias=bias), nn.ReLU()]\n",
    "            for _ in range(1, num_layers - 1):\n",
    "                self.m.append(nn.Linear(hidden_channels, hidden_channels, bias=bias))\n",
    "                self.m.append(nn.ReLU())\n",
    "            if limited_m:\n",
    "                self.m.append(nn.Linear(hidden_channels, 1, bias=bias))\n",
    "            else:\n",
    "                self.m.append(nn.Linear(hidden_channels, out_channels, bias=bias))\n",
    "\n",
    "        self.m = nn.Sequential(*self.m)\n",
    "\n",
    "    def init_params(self):\n",
    "        for name, param in self.named_parameters():\n",
    "            if 'weight' in name:\n",
    "                nn.init.xavier_normal_(param, gain=self.init_std)\n",
    "            elif 'bias' in name:\n",
    "                nn.init.constant_(param, 0)\n",
    "\n",
    "    def forward(self, inputs, node_ids):\n",
    "        x, edge_index, node_distances = inputs.x, inputs.edge_index, inputs.node_distances\n",
    "        fx = torch.empty(x.size(0), x.size(1), self.out_channels).to(self.device)\n",
    "        for feature_index in range(x.size(1)):\n",
    "            feature_col = x[:, feature_index]\n",
    "            feature_col = feature_col.view(-1, 1)\n",
    "            feature_col = self.fs[feature_index](feature_col)\n",
    "            fx[:, feature_index] = feature_col\n",
    "\n",
    "        f_sums = fx.sum(dim=1)\n",
    "        stacked_results = torch.empty(len(node_ids), self.out_channels).to(self.device)\n",
    "        for j, node in enumerate(node_ids):\n",
    "            node_dists = node_distances[node]\n",
    "            normalization = inputs.normalization_matrix[node]\n",
    "            m_dist = self.m(node_dists.view(-1, 1))\n",
    "            if self.normalize_m:\n",
    "                if m_dist.size(1) == 1:\n",
    "                    m_dist = torch.div(m_dist, normalization.view(-1, 1))\n",
    "                else:\n",
    "                    for i in range(m_dist.size(1)):\n",
    "                        m_dist[:, i] = torch.div(m_dist[:, i], normalization)\n",
    "            pred_for_node = torch.sum(torch.mul(m_dist, f_sums), dim=0)\n",
    "            stacked_results[j] = pred_for_node.view(1, -1)\n",
    "\n",
    "        return stacked_results"
   ]
  },
  {
   "cell_type": "code",
   "execution_count": 345,
   "id": "initial_id",
   "metadata": {
    "ExecuteTime": {
     "end_time": "2024-10-28T13:32:08.003678Z",
     "start_time": "2024-10-28T13:32:06.122791Z"
    }
   },
   "outputs": [],
   "source": [
    "data_path = 'data'\n",
    "dataset = TUDataset(root=data_path, name='Mutagenicity')\n",
    "\n",
    "mutagenicity_gnan = <path to model params>\n",
    "model = GNAN(in_channels=<>, hidden_channels=<>, num_layers=<>, out_channels=<>, bias=<>, limited_m=0, normalize_m=1)\n",
    "model.load_state_dict(torch.load(f\"{mutagenicity_gnan}\", map_location=torch.device('cpu') ))\n",
    "\n",
    "data = list(dataset)\n",
    "\n",
    "num_classes = dataset.num_classes\n",
    "num_features = data[0].x.size(-1)\n",
    "\n",
    "max_distance = 0\n",
    "for g in data:\n",
    "    igraph_graph = igraph.Graph(directed=False)\n",
    "    igraph_graph.add_vertices(g.x.size(0))\n",
    "    igraph_graph.add_edges(g.edge_index.T.numpy())\n",
    "    curr_max_distance = igraph_graph.diameter(directed=False)\n",
    "    if curr_max_distance > max_distance:\n",
    "        max_distance = curr_max_distance\n"
   ]
  },
  {
   "cell_type": "code",
   "execution_count": 346,
   "id": "76738519662b31a6",
   "metadata": {
    "ExecuteTime": {
     "end_time": "2024-10-28T13:32:08.036996Z",
     "start_time": "2024-10-28T13:32:08.008038Z"
    },
    "collapsed": false
   },
   "outputs": [],
   "source": [
    "# Plot rho in normalized distances\n",
    "y_input_values = torch.tensor([1/(1+i) for i in range(max_distance +1)])\n",
    "m_y_values = np.zeros(shape=(y_input_values.size(0), ))\n",
    "for i, val in enumerate(y_input_values):\n",
    "    mdist = model.m.forward(val.view(-1, 1)).detach()\n",
    "    m_y_values[i] = mdist"
   ]
  },
  {
   "cell_type": "code",
   "execution_count": null,
   "id": "729f370545f28861",
   "metadata": {
    "collapsed": false
   },
   "outputs": [],
   "source": [
    "# plot for distance function\n",
    "sns.set_style(\"whitegrid\")\n",
    "plt.figure(figsize=(4, 2))\n",
    "\n",
    "x_ticks = [i for i in range(max_distance+1)]\n",
    "\n",
    "#remove the paddings in the beggining and end of the plot\n",
    "plt.xlim(-0.5, max_distance-0.5)\n",
    "plt.plot(x_ticks, m_y_values, marker='.', markersize=4)\n",
    "# plt.xticks(distance_ticks)\n",
    "plt.xlabel('Distance', size=9)\n",
    "plt.ylabel('Distance function output', size=9)\n",
    "plt.xticks(fontsize=8)\n",
    "plt.yticks(fontsize=8)\n",
    "\n",
    "plt.show()"
   ]
  },
  {
   "cell_type": "code",
   "execution_count": null,
   "id": "ebbbe12bcb95f73b",
   "metadata": {
    "ExecuteTime": {
     "start_time": "2024-10-22T13:39:26.933168Z"
    }
   },
   "outputs": [],
   "source": [
    "f_scores = torch.zeros((num_features, ))\n",
    "for i in range(num_features):\n",
    "    f_scores[i] = model.fs[i].forward(torch.tensor([1.0]).view(-1, 1)).detach().flatten()[0]"
   ]
  },
  {
   "cell_type": "code",
   "execution_count": null,
   "id": "8a20de8e190a8dee",
   "metadata": {
    "ExecuteTime": {
     "start_time": "2024-10-22T13:39:26.960659Z"
    },
    "collapsed": false
   },
   "outputs": [],
   "source": [
    "# plot a bar plot of the f_scors with the feautre names for each bar\n",
    "plt.figure(figsize=(4, 2))\n",
    "plt.bar(mutagenity_feature_names, f_scores)\n",
    "\n",
    "plt.xlabel('Feature (atom)', size=9)\n",
    "plt.ylabel('Feature function output', size=9)\n",
    "plt.xticks(fontsize=8)\n",
    "plt.yticks(fontsize=8)\n",
    "plt.show()"
   ]
  },
  {
   "cell_type": "code",
   "execution_count": null,
   "id": "51662c1373c81933",
   "metadata": {
    "ExecuteTime": {
     "start_time": "2024-10-22T13:39:27.111159Z"
    }
   },
   "outputs": [],
   "source": [
    "from matplotlib.colors import LinearSegmentedColormap\n",
    "colors = [\"red\", \"white\", \"green\"]  # Red to white to green\n",
    "n_bins = 100  # Number of bins in the colormap\n",
    "cmap_name = \"custom_colormap\"\n",
    "# Create the colormap\n",
    "cmap = LinearSegmentedColormap.from_list(cmap_name, colors, N=n_bins)\n",
    "plot_x = torch.tensor(np.arange(max_distance)).long()\n",
    "plot_y = torch.zeros((len(f_scores), 1))\n"
   ]
  },
  {
   "cell_type": "code",
   "execution_count": null,
   "id": "7b73fc6e5e2ae4c5",
   "metadata": {
    "ExecuteTime": {
     "start_time": "2024-10-22T13:39:27.115660Z"
    }
   },
   "outputs": [],
   "source": [
    "#plot heatmap\n",
    "z = np.outer(f_scores, m_y_values)\n",
    "fig, ax= plt.subplots(figsize=(45, 15.5))\n",
    "sns.heatmap(z, annot=True, fmt=\".2f\", xticklabels=x_ticks, yticklabels=mutagenity_feature_names, cmap=cmap,\n",
    "            center=0, annot_kws={\"fontsize\":16}, cbar=False ,ax=ax)\n",
    "cbar = plt.colorbar(ax.collections[0], ax=ax, use_gridspec=True, aspect=70)\n",
    "\n",
    "cbar.ax.set_position([0.75, 0.1, 2, 0.755])\n",
    "cbar.ax.tick_params(labelsize=20)\n",
    "plt.xticks(fontsize=20, weight = 'bold')\n",
    "plt.yticks(fontsize=20, weight = 'bold')\n",
    "plt.xlabel('Distance', size=30)\n",
    "plt.ylabel('Feature (atom)', size=30)\n",
    "plt.title('Mutagenicity, is mutagenic', size=20)\n",
    "plt.show()\n"
   ]
  }
 ],
 "metadata": {
  "kernelspec": {
   "display_name": "Python 3",
   "language": "python",
   "name": "python3"
  },
  "language_info": {
   "codemirror_mode": {
    "name": "ipython",
    "version": 2
   },
   "file_extension": ".py",
   "mimetype": "text/x-python",
   "name": "python",
   "nbconvert_exporter": "python",
   "pygments_lexer": "ipython2",
   "version": "2.7.6"
  }
 },
 "nbformat": 4,
 "nbformat_minor": 5
}
